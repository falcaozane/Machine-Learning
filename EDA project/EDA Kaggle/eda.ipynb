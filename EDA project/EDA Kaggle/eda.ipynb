{
 "cells": [
  {
   "cell_type": "code",
   "execution_count": 2,
   "id": "9ab66e8a",
   "metadata": {},
   "outputs": [],
   "source": [
    "import numpy as np \n",
    "import pandas as pd \n",
    "import matplotlib.pyplot as plt \n",
    "import seaborn as sns"
   ]
  },
  {
   "cell_type": "code",
   "execution_count": 3,
   "id": "bfc76774",
   "metadata": {},
   "outputs": [],
   "source": [
    "column_names = ['age', 'year of operation', 'axillary nodes detected', 'Survival status']\n",
    "data = pd.read_csv('haberman.csv',names=column_names )"
   ]
  },
  {
   "cell_type": "code",
   "execution_count": 4,
   "id": "6be4c385",
   "metadata": {},
   "outputs": [
    {
     "data": {
      "text/html": [
       "<div>\n",
       "<style scoped>\n",
       "    .dataframe tbody tr th:only-of-type {\n",
       "        vertical-align: middle;\n",
       "    }\n",
       "\n",
       "    .dataframe tbody tr th {\n",
       "        vertical-align: top;\n",
       "    }\n",
       "\n",
       "    .dataframe thead th {\n",
       "        text-align: right;\n",
       "    }\n",
       "</style>\n",
       "<table border=\"1\" class=\"dataframe\">\n",
       "  <thead>\n",
       "    <tr style=\"text-align: right;\">\n",
       "      <th></th>\n",
       "      <th>age</th>\n",
       "      <th>year of operation</th>\n",
       "      <th>axillary nodes detected</th>\n",
       "      <th>Survival status</th>\n",
       "    </tr>\n",
       "  </thead>\n",
       "  <tbody>\n",
       "    <tr>\n",
       "      <th>0</th>\n",
       "      <td>30</td>\n",
       "      <td>64</td>\n",
       "      <td>1</td>\n",
       "      <td>1</td>\n",
       "    </tr>\n",
       "    <tr>\n",
       "      <th>1</th>\n",
       "      <td>30</td>\n",
       "      <td>62</td>\n",
       "      <td>3</td>\n",
       "      <td>1</td>\n",
       "    </tr>\n",
       "    <tr>\n",
       "      <th>2</th>\n",
       "      <td>30</td>\n",
       "      <td>65</td>\n",
       "      <td>0</td>\n",
       "      <td>1</td>\n",
       "    </tr>\n",
       "    <tr>\n",
       "      <th>3</th>\n",
       "      <td>31</td>\n",
       "      <td>59</td>\n",
       "      <td>2</td>\n",
       "      <td>1</td>\n",
       "    </tr>\n",
       "    <tr>\n",
       "      <th>4</th>\n",
       "      <td>31</td>\n",
       "      <td>65</td>\n",
       "      <td>4</td>\n",
       "      <td>1</td>\n",
       "    </tr>\n",
       "  </tbody>\n",
       "</table>\n",
       "</div>"
      ],
      "text/plain": [
       "   age  year of operation  axillary nodes detected  Survival status\n",
       "0   30                 64                        1                1\n",
       "1   30                 62                        3                1\n",
       "2   30                 65                        0                1\n",
       "3   31                 59                        2                1\n",
       "4   31                 65                        4                1"
      ]
     },
     "execution_count": 4,
     "metadata": {},
     "output_type": "execute_result"
    }
   ],
   "source": [
    "data.head()"
   ]
  },
  {
   "cell_type": "code",
   "execution_count": 6,
   "id": "a0f6eb50",
   "metadata": {},
   "outputs": [
    {
     "data": {
      "text/plain": [
       "(306, 4)"
      ]
     },
     "execution_count": 6,
     "metadata": {},
     "output_type": "execute_result"
    }
   ],
   "source": [
    "data.shape"
   ]
  },
  {
   "cell_type": "code",
   "execution_count": 7,
   "id": "fc89f745",
   "metadata": {},
   "outputs": [
    {
     "name": "stdout",
     "output_type": "stream",
     "text": [
      "<class 'pandas.core.frame.DataFrame'>\n",
      "RangeIndex: 306 entries, 0 to 305\n",
      "Data columns (total 4 columns):\n",
      " #   Column                   Non-Null Count  Dtype\n",
      "---  ------                   --------------  -----\n",
      " 0   age                      306 non-null    int64\n",
      " 1   year of operation        306 non-null    int64\n",
      " 2   axillary nodes detected  306 non-null    int64\n",
      " 3   Survival status          306 non-null    int64\n",
      "dtypes: int64(4)\n",
      "memory usage: 9.7 KB\n"
     ]
    }
   ],
   "source": [
    "data.info()"
   ]
  },
  {
   "cell_type": "code",
   "execution_count": 5,
   "id": "e9f0275e",
   "metadata": {},
   "outputs": [
    {
     "data": {
      "text/html": [
       "<div>\n",
       "<style scoped>\n",
       "    .dataframe tbody tr th:only-of-type {\n",
       "        vertical-align: middle;\n",
       "    }\n",
       "\n",
       "    .dataframe tbody tr th {\n",
       "        vertical-align: top;\n",
       "    }\n",
       "\n",
       "    .dataframe thead th {\n",
       "        text-align: right;\n",
       "    }\n",
       "</style>\n",
       "<table border=\"1\" class=\"dataframe\">\n",
       "  <thead>\n",
       "    <tr style=\"text-align: right;\">\n",
       "      <th></th>\n",
       "      <th>age</th>\n",
       "      <th>year of operation</th>\n",
       "      <th>axillary nodes detected</th>\n",
       "      <th>Survival status</th>\n",
       "    </tr>\n",
       "  </thead>\n",
       "  <tbody>\n",
       "    <tr>\n",
       "      <th>count</th>\n",
       "      <td>306.000000</td>\n",
       "      <td>306.000000</td>\n",
       "      <td>306.000000</td>\n",
       "      <td>306.000000</td>\n",
       "    </tr>\n",
       "    <tr>\n",
       "      <th>mean</th>\n",
       "      <td>52.457516</td>\n",
       "      <td>62.852941</td>\n",
       "      <td>4.026144</td>\n",
       "      <td>1.264706</td>\n",
       "    </tr>\n",
       "    <tr>\n",
       "      <th>std</th>\n",
       "      <td>10.803452</td>\n",
       "      <td>3.249405</td>\n",
       "      <td>7.189654</td>\n",
       "      <td>0.441899</td>\n",
       "    </tr>\n",
       "    <tr>\n",
       "      <th>min</th>\n",
       "      <td>30.000000</td>\n",
       "      <td>58.000000</td>\n",
       "      <td>0.000000</td>\n",
       "      <td>1.000000</td>\n",
       "    </tr>\n",
       "    <tr>\n",
       "      <th>25%</th>\n",
       "      <td>44.000000</td>\n",
       "      <td>60.000000</td>\n",
       "      <td>0.000000</td>\n",
       "      <td>1.000000</td>\n",
       "    </tr>\n",
       "    <tr>\n",
       "      <th>50%</th>\n",
       "      <td>52.000000</td>\n",
       "      <td>63.000000</td>\n",
       "      <td>1.000000</td>\n",
       "      <td>1.000000</td>\n",
       "    </tr>\n",
       "    <tr>\n",
       "      <th>75%</th>\n",
       "      <td>60.750000</td>\n",
       "      <td>65.750000</td>\n",
       "      <td>4.000000</td>\n",
       "      <td>2.000000</td>\n",
       "    </tr>\n",
       "    <tr>\n",
       "      <th>max</th>\n",
       "      <td>83.000000</td>\n",
       "      <td>69.000000</td>\n",
       "      <td>52.000000</td>\n",
       "      <td>2.000000</td>\n",
       "    </tr>\n",
       "  </tbody>\n",
       "</table>\n",
       "</div>"
      ],
      "text/plain": [
       "              age  year of operation  axillary nodes detected  Survival status\n",
       "count  306.000000         306.000000               306.000000       306.000000\n",
       "mean    52.457516          62.852941                 4.026144         1.264706\n",
       "std     10.803452           3.249405                 7.189654         0.441899\n",
       "min     30.000000          58.000000                 0.000000         1.000000\n",
       "25%     44.000000          60.000000                 0.000000         1.000000\n",
       "50%     52.000000          63.000000                 1.000000         1.000000\n",
       "75%     60.750000          65.750000                 4.000000         2.000000\n",
       "max     83.000000          69.000000                52.000000         2.000000"
      ]
     },
     "execution_count": 5,
     "metadata": {},
     "output_type": "execute_result"
    }
   ],
   "source": [
    "data.describe()"
   ]
  },
  {
   "cell_type": "code",
   "execution_count": 8,
   "id": "205e65b0",
   "metadata": {},
   "outputs": [],
   "source": [
    "data[\"Survival status\"] = data[\"Survival status\"].astype(\"category\")"
   ]
  },
  {
   "cell_type": "code",
   "execution_count": 9,
   "id": "4a796adf",
   "metadata": {},
   "outputs": [
    {
     "name": "stdout",
     "output_type": "stream",
     "text": [
      "<class 'pandas.core.frame.DataFrame'>\n",
      "RangeIndex: 306 entries, 0 to 305\n",
      "Data columns (total 4 columns):\n",
      " #   Column                   Non-Null Count  Dtype   \n",
      "---  ------                   --------------  -----   \n",
      " 0   age                      306 non-null    int64   \n",
      " 1   year of operation        306 non-null    int64   \n",
      " 2   axillary nodes detected  306 non-null    int64   \n",
      " 3   Survival status          306 non-null    category\n",
      "dtypes: category(1), int64(3)\n",
      "memory usage: 7.7 KB\n"
     ]
    }
   ],
   "source": [
    "data.info()"
   ]
  },
  {
   "cell_type": "code",
   "execution_count": 10,
   "id": "66d0dba0",
   "metadata": {},
   "outputs": [
    {
     "data": {
      "text/plain": [
       "Survival status\n",
       "1    225\n",
       "2     81\n",
       "Name: count, dtype: int64"
      ]
     },
     "execution_count": 10,
     "metadata": {},
     "output_type": "execute_result"
    }
   ],
   "source": [
    "data.value_counts(\"Survival status\")"
   ]
  },
  {
   "cell_type": "code",
   "execution_count": 16,
   "id": "a1a8863b",
   "metadata": {},
   "outputs": [
    {
     "data": {
      "image/png": "[encoded data removed]",
      "text/plain": [
       "<Figure size 400x400 with 1 Axes>"
      ]
     },
     "metadata": {},
     "output_type": "display_data"
    }
   ],
   "source": [
    "slices = data[\"Survival status\"].value_counts()\n",
    "labels = [\"Survived (Status 1)\", \"Died (Status 2)\"]\n",
    "colors = [\"#699ec9\", \"#ffea80\"]\n",
    "\n",
    "\n",
    "plt.figure(figsize=(4, 4)) \n",
    "plt.pie(x=slices, labels=labels, colors=colors, autopct=\"%1.0f%%\", startangle=90, wedgeprops=dict(width=0.2))\n",
    "\n",
    "plt.title(\"Survival Rate (Donut Chart)\")\n",
    "\n",
    "plt.show()"
   ]
  },
  {
   "cell_type": "markdown",
   "id": "3c37c3db",
   "metadata": {},
   "source": [
    "Observations from the above viz\n",
    "\n",
    "Out of 306 data-points, 225 data-points belong to class Survived and 81 data-points belong to class Died.\n",
    "There is class imbalance in the dataset.\n",
    "74% of data-points belong to class Survived and remaining 26% belong to class Died."
   ]
  },
  {
   "cell_type": "markdown",
   "id": "68464241",
   "metadata": {},
   "source": [
    "Univariate Analysis : PDF, CDF, Boxplot, Violin Plots to Understand Which Features are Useful Towards Classification"
   ]
  },
  {
   "cell_type": "code",
   "execution_count": 18,
   "id": "0cd55185",
   "metadata": {},
   "outputs": [
    {
     "name": "stdout",
     "output_type": "stream",
     "text": [
      "Patient with lowest age: 30\n",
      "Patient with highest age: 83\n",
      "Mean age of Patients: 52\n",
      "Median age of Patients: 52\n"
     ]
    }
   ],
   "source": [
    "# age \n",
    "\n",
    "print(\"Patient with lowest age:\", data[\"age\"].min())\n",
    "print(\"Patient with highest age:\", data[\"age\"].max())\n",
    "print(\"Mean age of Patients:\", round(data[\"age\"].mean()))\n",
    "print(\"Median age of Patients:\", round(data[\"age\"].median()))"
   ]
  },
  {
   "cell_type": "code",
   "execution_count": 27,
   "id": "a6b83556",
   "metadata": {},
   "outputs": [
    {
     "name": "stdout",
     "output_type": "stream",
     "text": [
      "Mean axillary nodes detected in Patients: 3\n",
      "Median of axillary nodes detected Patients: 1\n"
     ]
    }
   ],
   "source": [
    "# number of aux nodes\n",
    "\n",
    "fltr = data[\"axillary nodes detected\"]\n",
    "aff_nodes = data.loc[fltr, \"axillary nodes detected\"]\n",
    "\n",
    "print(\"Mean axillary nodes detected in Patients:\", round(aff_nodes.mean()))\n",
    "print(\"Median of axillary nodes detected Patients:\", round(aff_nodes.median()))"
   ]
  },
  {
   "cell_type": "code",
   "execution_count": 26,
   "id": "2ca5081c",
   "metadata": {},
   "outputs": [
    {
     "name": "stdout",
     "output_type": "stream",
     "text": [
      "Mean axillary nodes detected in Patients: 7\n",
      "Median of axillary nodes detected Patients: 4\n"
     ]
    }
   ],
   "source": [
    "# number of aux nodes\n",
    "\n",
    "fltr = data[\"axillary nodes detected\"] > 0  # Filter to consider only affected nodes.\n",
    "aff_nodes = data.loc[fltr, \"axillary nodes detected\"]\n",
    "\n",
    "print(\"Mean axillary nodes detected in Patients:\", round(aff_nodes.mean()))\n",
    "print(\"Median of axillary nodes detected Patients:\", round(aff_nodes.median()))"
   ]
  },
  {
   "cell_type": "code",
   "execution_count": 32,
   "id": "5c45cee3",
   "metadata": {},
   "outputs": [
    {
     "data": {
      "image/png": "[encoded data removed]",
      "text/plain": [
       "<Figure size 1000x600 with 1 Axes>"
      ]
     },
     "metadata": {},
     "output_type": "display_data"
    }
   ],
   "source": [
    "plt.figure(figsize=(10, 6))  # Figure size: width, height\n",
    "\n",
    "sns.histplot(x=data[\"age\"], label=\"Age\", bins=10, kde=True)\n",
    "plt.xlabel(\"Patient's Age in years\")\n",
    "plt.ylabel(\"Density (Patient count)\")\n",
    "plt.title(\"Patient's age distribution\")\n",
    "plt.xticks(ticks=range(25, 85, 5))\n",
    "plt.yticks(ticks=range(0, 90, 10))\n",
    "plt.legend()\n",
    "\n",
    "plt.show()"
   ]
  },
  {
   "cell_type": "markdown",
   "id": "910bad01",
   "metadata": {},
   "source": [
    "Majority of the patients age is between 45-55 years."
   ]
  },
  {
   "cell_type": "code",
   "execution_count": null,
   "id": "79ff79ff",
   "metadata": {},
   "outputs": [],
   "source": []
  },
  {
   "cell_type": "code",
   "execution_count": null,
   "id": "f85e09da",
   "metadata": {},
   "outputs": [],
   "source": []
  }
 ],
 "metadata": {
  "kernelspec": {
   "display_name": "Python 3",
   "language": "python",
   "name": "python3"
  },
  "language_info": {
   "codemirror_mode": {
    "name": "ipython",
    "version": 3
   },
   "file_extension": ".py",
   "mimetype": "text/x-python",
   "name": "python",
   "nbconvert_exporter": "python",
   "pygments_lexer": "ipython3",
   "version": "3.12.10"
  }
 },
 "nbformat": 4,
 "nbformat_minor": 5
}
