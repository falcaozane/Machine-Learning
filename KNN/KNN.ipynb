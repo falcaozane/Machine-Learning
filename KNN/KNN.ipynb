{
 "cells": [
  {
   "cell_type": "code",
   "execution_count": 1,
   "id": "4d25ef47",
   "metadata": {},
   "outputs": [],
   "source": [
    "import numpy as np\n",
    "from sklearn.datasets import make_classification, make_regression\n",
    "from sklearn.model_selection import train_test_split\n",
    "from sklearn.neighbors import KNeighborsClassifier, KNeighborsRegressor\n",
    "from sklearn.metrics import accuracy_score, mean_squared_error"
   ]
  },
  {
   "cell_type": "code",
   "execution_count": 2,
   "id": "98b7670b",
   "metadata": {},
   "outputs": [
    {
     "name": "stdout",
     "output_type": "stream",
     "text": [
      "Classifier Accuracy: 0.95\n"
     ]
    }
   ],
   "source": [
    "# Classification demo\n",
    "Xc, yc = make_classification(n_samples=200, n_features=4, random_state=0)\n",
    "Xc_train, Xc_test, yc_train, yc_test = train_test_split(Xc, yc, test_size=0.3, random_state=0)\n",
    "clf = KNeighborsClassifier(n_neighbors=5, weights='distance')\n",
    "clf.fit(Xc_train, yc_train)\n",
    "pred_labels = clf.predict(Xc_test)\n",
    "print(\"Classifier Accuracy:\", accuracy_score(yc_test, pred_labels))"
   ]
  },
  {
   "cell_type": "code",
   "execution_count": 3,
   "id": "9608d686",
   "metadata": {},
   "outputs": [
    {
     "name": "stdout",
     "output_type": "stream",
     "text": [
      "Regressor MSE: 316.0284628798246\n"
     ]
    }
   ],
   "source": [
    "# Regression demo\n",
    "Xr, yr = make_regression(n_samples=200, n_features=1, noise=20, random_state=0)\n",
    "Xr_train, Xr_test, yr_train, yr_test = train_test_split(Xr, yr, test_size=0.3, random_state=0)\n",
    "reg = KNeighborsRegressor(n_neighbors=5, weights='uniform')\n",
    "reg.fit(Xr_train, yr_train)\n",
    "pred_values = reg.predict(Xr_test)\n",
    "print(\"Regressor MSE:\", mean_squared_error(yr_test, pred_values))"
   ]
  }
 ],
 "metadata": {
  "kernelspec": {
   "display_name": "Python 3",
   "language": "python",
   "name": "python3"
  },
  "language_info": {
   "codemirror_mode": {
    "name": "ipython",
    "version": 3
   },
   "file_extension": ".py",
   "mimetype": "text/x-python",
   "name": "python",
   "nbconvert_exporter": "python",
   "pygments_lexer": "ipython3",
   "version": "3.11.4"
  }
 },
 "nbformat": 4,
 "nbformat_minor": 5
}
