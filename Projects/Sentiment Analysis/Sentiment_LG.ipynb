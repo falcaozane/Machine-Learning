{
  "nbformat": 4,
  "nbformat_minor": 0,
  "metadata": {
    "colab": {
      "provenance": []
    },
    "kernelspec": {
      "name": "python3",
      "display_name": "Python 3"
    },
    "language_info": {
      "name": "python"
    }
  },
  "cells": [
    {
      "cell_type": "code",
      "execution_count": null,
      "metadata": {
        "id": "bu_Rw9fOtuSh"
      },
      "outputs": [],
      "source": [
        "# importing necessary libraries\n",
        "\n",
        "import nltk,re,string\n",
        "from nltk.corpus import stopwords,twitter_samples\n",
        "import numpy as np\n",
        "import pickle"
      ]
    },
    {
      "cell_type": "code",
      "source": [
        "import nltk\n",
        "nltk.download('stopwords')"
      ],
      "metadata": {
        "colab": {
          "base_uri": "https://localhost:8080/"
        },
        "id": "1ednGBoxaj4W",
        "outputId": "218dc99d-7ffc-4732-9bfd-00a8a8520f6e"
      },
      "execution_count": null,
      "outputs": [
        {
          "output_type": "stream",
          "name": "stderr",
          "text": [
            "[nltk_data] Downloading package stopwords to /root/nltk_data...\n",
            "[nltk_data]   Unzipping corpora/stopwords.zip.\n"
          ]
        },
        {
          "output_type": "execute_result",
          "data": {
            "text/plain": [
              "True"
            ]
          },
          "metadata": {},
          "execution_count": 2
        }
      ]
    },
    {
      "cell_type": "code",
      "source": [
        "# Preprocessing of the tweets data\n",
        "\n",
        "def process_tweet(tweet):\n",
        "  stemmer = nltk.PorterStemmer()\n",
        "  stopwords_english = stopwords.words('english')\n",
        "  tweet = re.sub(r'\\$\\w*','',tweet)\n",
        "  tweet = re.sub(r'^RT[\\s]+','',tweet)\n",
        "  tweet = re.sub(r'https?:\\/\\/.*[\\r\\n]*','',tweet)\n",
        "  tweet = re.sub(r'#','',tweet)\n",
        "  tokenizer = nltk.TweetTokenizer(preserve_case=False,strip_handles=True,reduce_len=True)\n",
        "  tweet_tokens = tokenizer.tokenize(tweet)\n",
        "\n",
        "  tweets_clean = []\n",
        "  for word in tweet_tokens:\n",
        "    if(word not in stopwords_english and word not in string.punctuation):\n",
        "      stem_word = stemmer.stem(word)\n",
        "      tweets_clean.append(stem_word)\n",
        "\n",
        "  return tweets_clean"
      ],
      "metadata": {
        "id": "zc3noikWIqkv"
      },
      "execution_count": null,
      "outputs": []
    },
    {
      "cell_type": "markdown",
      "source": [
        "learning -> learn <br />\n",
        "works -> word"
      ],
      "metadata": {
        "id": "nhRvFbpSUfOc"
      }
    },
    {
      "cell_type": "markdown",
      "source": [
        " this is the most important part of the whole code <br />\n",
        " the reason is our feature set through which we will be training our model on will be build here"
      ],
      "metadata": {
        "id": "PllKg90jWaUo"
      }
    },
    {
      "cell_type": "code",
      "source": [
        "def build_freqs(tweets,ys):\n",
        "  \"\"\"\n",
        "    Build Frequencies.\n",
        "    Input: a list of tweets\n",
        "    ys: an m x 1 array with sentiment label of each tweet\n",
        "    ( either 0 or 1 )\n",
        "    Output :\n",
        "    freq : a dictionary mapping each (word,sentiment) pair to its frequency\n",
        "  \"\"\"\n",
        "\n",
        "  yslist = np.squeeze(ys).tolist()\n",
        "  freqs = {}\n",
        "\n",
        "  for y, tweet in zip(yslist,tweets):\n",
        "    for word in process_tweet(tweet):\n",
        "      pair = (word,y)\n",
        "      if pair in freqs:\n",
        "        freqs[pair] += 1\n",
        "      else:\n",
        "        freqs[pair] = 1\n",
        "\n",
        "  return freqs"
      ],
      "metadata": {
        "id": "cl6QknxWJMxa"
      },
      "execution_count": null,
      "outputs": []
    },
    {
      "cell_type": "markdown",
      "source": [
        "testing on samples"
      ],
      "metadata": {
        "id": "Y3qTVflHaL1W"
      }
    },
    {
      "cell_type": "code",
      "source": [
        "tweets = ['i am happy','i am tricked','i am sad','i am tired','i am tired']\n",
        "ys = [1,0,0,0,0]\n",
        "res = build_freqs(tweets,ys)\n",
        "print(res)"
      ],
      "metadata": {
        "colab": {
          "base_uri": "https://localhost:8080/"
        },
        "id": "Rka389bGaOpq",
        "outputId": "992570da-5772-470b-cecb-ec47043cb212"
      },
      "execution_count": null,
      "outputs": [
        {
          "output_type": "stream",
          "name": "stdout",
          "text": [
            "{('happi', 1): 1, ('trick', 0): 1, ('sad', 0): 1, ('tire', 0): 2}\n"
          ]
        }
      ]
    },
    {
      "cell_type": "code",
      "source": [
        "nltk.download('twitter_samples')"
      ],
      "metadata": {
        "colab": {
          "base_uri": "https://localhost:8080/"
        },
        "id": "HQ0JoqE7f3Xa",
        "outputId": "f8c16d07-37dc-4704-b590-00c49113e574"
      },
      "execution_count": null,
      "outputs": [
        {
          "output_type": "stream",
          "name": "stderr",
          "text": [
            "[nltk_data] Downloading package twitter_samples to /root/nltk_data...\n",
            "[nltk_data]   Unzipping corpora/twitter_samples.zip.\n"
          ]
        },
        {
          "output_type": "execute_result",
          "data": {
            "text/plain": [
              "True"
            ]
          },
          "metadata": {},
          "execution_count": 6
        }
      ]
    },
    {
      "cell_type": "code",
      "source": [
        "all_positive_tweets = twitter_samples.strings('positive_tweets.json')\n",
        "all_negative_tweets = twitter_samples.strings('negative_tweets.json')\n",
        "all_neutral_weets = twitter_samples.strings('tweets.20150430-223406.json')"
      ],
      "metadata": {
        "id": "3CP4q_dbfrTl"
      },
      "execution_count": null,
      "outputs": []
    },
    {
      "cell_type": "code",
      "source": [
        "test_pos = all_positive_tweets[4000:]\n",
        "train_pos = all_positive_tweets[:4000]\n",
        "test_neg = all_negative_tweets[4000:]\n",
        "train_neg = all_negative_tweets[:4000]"
      ],
      "metadata": {
        "id": "hIbcxjS9f6UX"
      },
      "execution_count": null,
      "outputs": []
    },
    {
      "cell_type": "code",
      "source": [
        "train_x = train_pos + train_neg\n",
        "test_x = test_pos + test_neg"
      ],
      "metadata": {
        "id": "zLW5QBEUgGyV"
      },
      "execution_count": null,
      "outputs": []
    },
    {
      "cell_type": "markdown",
      "source": [
        "combine +ve and -ve results"
      ],
      "metadata": {
        "id": "f1-CtNowgVaH"
      }
    },
    {
      "cell_type": "markdown",
      "source": [
        "we r building our y-target variable here"
      ],
      "metadata": {
        "id": "UA8HxDvlgbj7"
      }
    },
    {
      "cell_type": "code",
      "source": [
        "train_y = np.append(np.ones((len(train_pos),1)),np.zeros((len(train_neg),1)),axis=0)\n",
        "test_y = np.append(np.ones((len(test_pos),1)),np.zeros((len(test_neg),1)),axis=0)"
      ],
      "metadata": {
        "id": "VHflKBXFgI4t"
      },
      "execution_count": null,
      "outputs": []
    },
    {
      "cell_type": "markdown",
      "source": [
        "creating frequency dictionary"
      ],
      "metadata": {
        "id": "jZ1k2UMbhgWS"
      }
    },
    {
      "cell_type": "code",
      "source": [
        "freqs = build_freqs(train_x,train_y)"
      ],
      "metadata": {
        "id": "Lh3PJlkogsYs"
      },
      "execution_count": null,
      "outputs": []
    },
    {
      "cell_type": "markdown",
      "source": [
        "checking the output"
      ],
      "metadata": {
        "id": "5T1tzU0Vh0xs"
      }
    },
    {
      "cell_type": "code",
      "source": [
        "print(\"type(freqs) = \" + str(type(freqs)))\n",
        "print(\"len(freq) = \"+ str(len(freqs.keys())))"
      ],
      "metadata": {
        "colab": {
          "base_uri": "https://localhost:8080/"
        },
        "id": "aa5O7__3h6It",
        "outputId": "d6c22461-5df1-4f49-d1a4-232fd2751bf6"
      },
      "execution_count": null,
      "outputs": [
        {
          "output_type": "stream",
          "name": "stdout",
          "text": [
            "type(freqs) = <class 'dict'>\n",
            "len(freq) = 11307\n"
          ]
        }
      ]
    },
    {
      "cell_type": "markdown",
      "source": [
        "Testing the function below"
      ],
      "metadata": {
        "id": "NAiezEJUjnss"
      }
    },
    {
      "cell_type": "code",
      "source": [
        "print(' This is an example of a positive tweet: \\n', train_x[22])\n",
        "print('\\n This is an example of the processed version of the tweet : \\n', process_tweet(train_x[22]))"
      ],
      "metadata": {
        "id": "gwjiGns-jrrQ",
        "colab": {
          "base_uri": "https://localhost:8080/"
        },
        "outputId": "d594a9c8-776e-4108-f07e-5a5752c50c28"
      },
      "execution_count": null,
      "outputs": [
        {
          "output_type": "stream",
          "name": "stdout",
          "text": [
            " This is an example of a positive tweet: \n",
            " @gculloty87 Yeah I suppose she was lol! Chat in a bit just off out x :))\n",
            "\n",
            " This is an example of the processed version of the tweet : \n",
            " ['yeah', 'suppos', 'lol', 'chat', 'bit', 'x', ':)']\n"
          ]
        }
      ]
    },
    {
      "cell_type": "markdown",
      "source": [
        "# **Implementing Logistic Regression from scratch**"
      ],
      "metadata": {
        "id": "mW74AjvFlLfe"
      }
    },
    {
      "cell_type": "markdown",
      "source": [
        "The sigmoid function"
      ],
      "metadata": {
        "id": "NNnnXhVIlUxE"
      }
    },
    {
      "cell_type": "code",
      "source": [
        "def sigmoid(z):\n",
        "  zz = np.negative(z)\n",
        "  h = 1 / (1+np.exp(zz))\n",
        "  return h"
      ],
      "metadata": {
        "id": "Y5AM-zExlbUh"
      },
      "execution_count": null,
      "outputs": []
    },
    {
      "cell_type": "markdown",
      "source": [
        "**cost function and gradient**"
      ],
      "metadata": {
        "id": "ka6aCvtTmoig"
      }
    },
    {
      "cell_type": "code",
      "source": [
        "def gradientDescent(x, y, theta, alpha, num_iters):\n",
        "    \"\"\"\n",
        "    Input:\n",
        "        x: matrix of features which is (m,n+1)\n",
        "        y: corresponding labels of the input matrix x, dimensions (m,1)\n",
        "        theta: weight vector of dimension (n+1,1)\n",
        "        alpha: learning rate\n",
        "        num_iters: number of iterations you want to train your model for\n",
        "    Output:\n",
        "        J: the final cost\n",
        "        theta: your final weight vector\n",
        "    Hint: you might want to print the cost to make sure that it is going down.\n",
        "    \"\"\"\n",
        "\n",
        "    # get 'm', the number of rows in matrix x\n",
        "    m = x.shape[0]\n",
        "    for i in range(0, num_iters):\n",
        "        z = np.dot(x, theta)\n",
        "        h = sigmoid(z)\n",
        "\n",
        "        # calculate the cost function\n",
        "        cost = -1./m * (np.dot(y.transpose(), np.log(h)) + np.dot((1-y).transpose(), np.log(1-h)))\n",
        "\n",
        "        # update the weights theta\n",
        "        theta = theta - (alpha / m) * np.dot(x.transpose(), (h - y))\n",
        "\n",
        "    cost = float(cost)\n",
        "    return cost, theta"
      ],
      "metadata": {
        "id": "mTiSBQPdmuey"
      },
      "execution_count": null,
      "outputs": []
    },
    {
      "cell_type": "markdown",
      "source": [
        "**Feature Extraction**"
      ],
      "metadata": {
        "id": "V6_sitCLPMCz"
      }
    },
    {
      "cell_type": "code",
      "source": [
        "def extract_features(tweet,freqs):\n",
        "  \"\"\"\n",
        "    tweet : a list of words for one tweet\n",
        "    freqs : a dictionary corresponding to the frequencies of each tuple(word,label)\n",
        "    output :\n",
        "    x : a feature vector of dimension (1,3)\n",
        "  \"\"\"\n",
        "\n",
        "  word_l = process_tweet(tweet)\n",
        "  x = np.zeros((1,3))\n",
        "\n",
        "  # bias term is set to 1\n",
        "  x[0,0] = 1\n",
        "\n",
        "  for word in word_l:\n",
        "    # increment the word count for the +ve label 1\n",
        "    x[0,1] += freqs.get((word,1.0),0)\n",
        "\n",
        "    # increment the word count for the -ve label 0\n",
        "    x[0,2] += freqs.get((word,0.0),0)\n",
        "\n",
        "    assert(x.shape == (1,3)) # The assert keyword is a built-in function that tests whether a condition is true or false\n",
        "  return x"
      ],
      "metadata": {
        "id": "diZnP8Z4NiYR"
      },
      "execution_count": null,
      "outputs": []
    },
    {
      "cell_type": "markdown",
      "source": [
        "**Testing on training data**"
      ],
      "metadata": {
        "id": "6hcTz8r-SqkN"
      }
    },
    {
      "cell_type": "code",
      "source": [
        "tmp1 = extract_features(train_x[22],freqs)\n",
        "print(tmp1)"
      ],
      "metadata": {
        "colab": {
          "base_uri": "https://localhost:8080/"
        },
        "id": "Ao3GfRxaQ1SJ",
        "outputId": "01d01bb4-5af9-4018-d2e4-34a3f863930c"
      },
      "execution_count": null,
      "outputs": [
        {
          "output_type": "stream",
          "name": "stdout",
          "text": [
            "[[1.000e+00 3.006e+03 1.240e+02]]\n"
          ]
        }
      ]
    },
    {
      "cell_type": "markdown",
      "source": [
        " Try to understand what all these three numbers mean.\n",
        " Usually we get a dataset with a lot of features/columns, here we just have text data.\n",
        " Those three numbers are the feature set that we have build using build_freq() and extract_features() function.\n",
        " build_freq() builds a dictionary having words as keys and the number of times they have occurred in corpus as values.\n",
        " Extract feature takes in sum of these values for positive and negative words, i.e. tmp[1] and tmp[2]\n",
        "\n",
        " How these features will be used to predict in Logistic Regression\n",
        "# First a hypothesis is build which for our case will be h(x) = b1 + b2 * x1 + b3 * x2\n",
        " here b1 = 1, b2 and b3 are determined by cost and gradient function, x1 and x2 are the positive and negative words feature set."
      ],
      "metadata": {
        "id": "mPfiUJ3RT7fV"
      }
    },
    {
      "cell_type": "markdown",
      "source": [
        "# Training the model"
      ],
      "metadata": {
        "id": "FYi95WKXUzDe"
      }
    },
    {
      "cell_type": "code",
      "source": [
        "# collect the features 'x' and stack them into a matrix 'X'\n",
        "X = np.zeros((len(train_x), 3))\n",
        "for i in range(len(train_x)):\n",
        "    X[i, :] = extract_features(train_x[i], freqs)\n",
        "\n",
        "# training labels corresponding to X\n",
        "Y = train_y\n",
        "\n",
        "# Apply gradient descent\n",
        "# these values are predefined (Andrew NG)\n",
        "J, theta = gradientDescent(X, Y, np.zeros((3, 1)), 1e-9, 1500)"
      ],
      "metadata": {
        "colab": {
          "base_uri": "https://localhost:8080/"
        },
        "id": "8n2LHHoTUJbe",
        "outputId": "d26d68d3-24e4-4302-e925-293f6ce66b3d"
      },
      "execution_count": null,
      "outputs": [
        {
          "output_type": "stream",
          "name": "stderr",
          "text": [
            "<ipython-input-15-e4f85f0674ab>:27: DeprecationWarning: Conversion of an array with ndim > 0 to a scalar is deprecated, and will error in future. Ensure you extract a single element from your array before performing this operation. (Deprecated NumPy 1.25.)\n",
            "  cost = float(cost)\n"
          ]
        }
      ]
    },
    {
      "cell_type": "code",
      "source": [
        "def predict_tweet(tweet, freqs, theta):\n",
        "    \"\"\"\n",
        "    Input:\n",
        "        tweet: a string\n",
        "        freqs: a dictionary corresponding to the frequencies of each tuple (word, label)\n",
        "        theta: (3,1) vector of weights\n",
        "    Output:\n",
        "        y_pred: the probability of a tweet being positive or negative\n",
        "    \"\"\"\n",
        "    # extract the features of the tweet and store it into x\n",
        "    x = extract_features(tweet, freqs)\n",
        "    y_pred = sigmoid(np.dot(x, theta))\n",
        "\n",
        "    return y_pred"
      ],
      "metadata": {
        "id": "Y84G5o-UU7ur"
      },
      "execution_count": null,
      "outputs": []
    },
    {
      "cell_type": "code",
      "source": [
        "def test_logistic_regression(test_x, test_y, freqs, theta):\n",
        "    \"\"\"\n",
        "    Input:\n",
        "        test_x: a list of tweets\n",
        "        test_y: (m, 1) vector with the corresponding labels for the list of tweets\n",
        "        freqs: a dictionary with the frequency of each pair (or tuple)\n",
        "        theta: weight vector of dimension (3, 1)\n",
        "    Output:\n",
        "        accuracy: (# of tweets classified correctly) / (total # of tweets)\n",
        "    \"\"\"\n",
        "\n",
        "    # the list for storing predictions\n",
        "    y_hat = []\n",
        "\n",
        "    for tweet in test_x:\n",
        "        # get the label prediction for the tweet\n",
        "        y_pred = predict_tweet(tweet, freqs, theta)\n",
        "\n",
        "        if y_pred > 0.5:\n",
        "            y_hat.append(1)\n",
        "        else:\n",
        "            y_hat.append(0)\n",
        "\n",
        "    accuracy = (y_hat == np.squeeze(test_y)).sum() / len(test_x)\n",
        "\n",
        "    return accuracy"
      ],
      "metadata": {
        "id": "hGbwa8jQWCNU"
      },
      "execution_count": null,
      "outputs": []
    },
    {
      "cell_type": "code",
      "source": [
        "tmp_accuracy = test_logistic_regression(test_x,test_y,freqs,theta)\n",
        "print(f\"Logistic regression model's accuracy = {tmp_accuracy:.4f}\")"
      ],
      "metadata": {
        "colab": {
          "base_uri": "https://localhost:8080/"
        },
        "id": "t7vD_UgSWN99",
        "outputId": "b43d311e-e1a1-410d-d64e-62a27522d884"
      },
      "execution_count": null,
      "outputs": [
        {
          "output_type": "stream",
          "name": "stdout",
          "text": [
            "Logistic regression model's accuracy = 0.9965\n"
          ]
        }
      ]
    },
    {
      "cell_type": "markdown",
      "source": [
        "# Predict with ur own sentence"
      ],
      "metadata": {
        "id": "u29hJb2yWamY"
      }
    },
    {
      "cell_type": "code",
      "source": [
        "def pre(sentence):\n",
        "  yhat = predict_tweet(sentence,freqs,theta)\n",
        "  if yhat > 0.5:\n",
        "    return 'Positive sentiment'\n",
        "  elif yhat == 0:\n",
        "    return 'Neutral sentiment'\n",
        "  else:\n",
        "    return 'Negative sentiment'"
      ],
      "metadata": {
        "id": "ahnHqb8qWoc7"
      },
      "execution_count": null,
      "outputs": []
    },
    {
      "cell_type": "code",
      "source": [
        "my_tweet = \"It is a day.\"\n",
        "\n",
        "res = pre(my_tweet)\n",
        "print(res)"
      ],
      "metadata": {
        "colab": {
          "base_uri": "https://localhost:8080/"
        },
        "id": "Q_LxXk1gWuLE",
        "outputId": "4e04018d-f7ab-41db-d0b8-560e1d392beb"
      },
      "execution_count": null,
      "outputs": [
        {
          "output_type": "stream",
          "name": "stdout",
          "text": [
            "Positive sentiment\n"
          ]
        }
      ]
    },
    {
      "cell_type": "code",
      "source": [
        "# Enhancing Sentiment Detection with Neutral Classification and Metrics\n",
        "import numpy as np\n",
        "from sklearn.metrics import classification_report, confusion_matrix, roc_curve, auc, precision_recall_curve\n",
        "import matplotlib.pyplot as plt\n",
        "\n",
        "# Predict probabilities for test data\n",
        "y_probs = np.array([predict_tweet(tweet, freqs, theta)[0] for tweet in test_x])\n",
        "\n",
        "# Define thresholds for sentiment\n",
        "lower_thresh = 0.4\n",
        "upper_thresh = 0.6\n",
        "\n",
        "# Predict labels: 0 = Negative, 1 = Neutral, 2 = Positive\n",
        "y_pred_labels = np.array([\n",
        "    2 if prob > upper_thresh else (0 if prob < lower_thresh else 1)\n",
        "    for prob in y_probs\n",
        "])\n",
        "\n",
        "# Adjust ground truth for 3-class evaluation: 0 -> 0 (Negative), 1 -> 2 (Positive)\n",
        "y_true_labels = np.array([2 if y==1 else 0 for y in np.squeeze(test_y)])\n"
      ],
      "metadata": {
        "id": "cn3xJToVfPdg"
      },
      "execution_count": null,
      "outputs": []
    },
    {
      "cell_type": "code",
      "source": [
        "# Classification report\n",
        "print(\"Classification Report:\\n\")\n",
        "print(classification_report(y_true_labels, y_pred_labels, target_names=['Negative', 'Neutral', 'Positive'], zero_division=0))"
      ],
      "metadata": {
        "colab": {
          "base_uri": "https://localhost:8080/"
        },
        "id": "0QPaqZoLfZbT",
        "outputId": "a75d3acb-40ca-4021-f63a-e98296463243"
      },
      "execution_count": null,
      "outputs": [
        {
          "output_type": "stream",
          "name": "stdout",
          "text": [
            "Classification Report:\n",
            "\n",
            "              precision    recall  f1-score   support\n",
            "\n",
            "    Negative       1.00      0.88      0.94      1000\n",
            "     Neutral       0.00      0.00      0.00         0\n",
            "    Positive       1.00      0.71      0.83      1000\n",
            "\n",
            "    accuracy                           0.80      2000\n",
            "   macro avg       0.67      0.53      0.59      2000\n",
            "weighted avg       1.00      0.80      0.89      2000\n",
            "\n"
          ]
        }
      ]
    },
    {
      "cell_type": "code",
      "source": [
        "# Confusion matrix\n",
        "cm = confusion_matrix(y_true_labels, y_pred_labels, labels=[0, 1, 2])\n",
        "print(\"Confusion Matrix:\\n\", cm)"
      ],
      "metadata": {
        "colab": {
          "base_uri": "https://localhost:8080/"
        },
        "id": "yRG0I_UJfoum",
        "outputId": "d27f6b85-479e-4e67-975f-cdaac97983f3"
      },
      "execution_count": null,
      "outputs": [
        {
          "output_type": "stream",
          "name": "stdout",
          "text": [
            "Confusion Matrix:\n",
            " [[882 118   0]\n",
            " [  0   0   0]\n",
            " [  0 286 714]]\n"
          ]
        }
      ]
    },
    {
      "cell_type": "code",
      "source": [
        "# Plot Confusion Matrix\n",
        "def plot_confusion_matrix(cm, classes):\n",
        "    fig, ax = plt.subplots()\n",
        "    im = ax.imshow(cm, cmap='Blues')\n",
        "    ax.set_xticks(np.arange(len(classes)))\n",
        "    ax.set_yticks(np.arange(len(classes)))\n",
        "    ax.set_xticklabels(classes)\n",
        "    ax.set_yticklabels(classes)\n",
        "    plt.setp(ax.get_xticklabels(), rotation=45, ha=\"right\")\n",
        "    ax.set_ylabel('True Label')\n",
        "    ax.set_xlabel('Predicted Label')\n",
        "    ax.set_title('Confusion Matrix')\n",
        "    for i in range(cm.shape[0]):\n",
        "        for j in range(cm.shape[1]):\n",
        "            ax.text(j, i, cm[i, j], ha=\"center\", va=\"center\")\n",
        "    plt.colorbar(im)\n",
        "    plt.tight_layout()\n",
        "    plt.show()\n",
        "\n",
        "plot_confusion_matrix(cm, ['Negative', 'Neutral', 'Positive'])"
      ],
      "metadata": {
        "colab": {
          "base_uri": "https://localhost:8080/",
          "height": 487
        },
        "id": "VdnNKI9Bfwew",
        "outputId": "cff8b3b3-a366-42c4-f58e-ba236b033e86"
      },
      "execution_count": null,
      "outputs": [
        {
          "output_type": "display_data",
          "data": {
            "text/plain": [
              "<Figure size 640x480 with 2 Axes>"
            ],
            "image/png": "[encoded data removed]"
          },
          "metadata": {}
        }
      ]
    },
    {
      "cell_type": "code",
      "source": [
        "# ROC Curve (for original binary classification)\n",
        "fpr, tpr, _ = roc_curve(np.squeeze(test_y), y_probs)\n",
        "roc_auc = auc(fpr, tpr)\n",
        "plt.figure()\n",
        "plt.plot(fpr, tpr, label=f'AUC = {roc_auc:.2f}')\n",
        "plt.plot([0, 1], [0, 1], linestyle='--')\n",
        "plt.title('ROC Curve')\n",
        "plt.xlabel('False Positive Rate')\n",
        "plt.ylabel('True Positive Rate')\n",
        "plt.legend()\n",
        "plt.grid(True)\n",
        "plt.show()"
      ],
      "metadata": {
        "colab": {
          "base_uri": "https://localhost:8080/",
          "height": 472
        },
        "id": "BrkTjnbwf6rg",
        "outputId": "503e0038-aaa1-4525-dc68-6671dde144b2"
      },
      "execution_count": null,
      "outputs": [
        {
          "output_type": "display_data",
          "data": {
            "text/plain": [
              "<Figure size 640x480 with 1 Axes>"
            ],
            "image/png": "[encoded data removed]"
          },
          "metadata": {}
        }
      ]
    },
    {
      "cell_type": "code",
      "source": [
        "# Precision-Recall Curve\n",
        "precision, recall, _ = precision_recall_curve(np.squeeze(test_y), y_probs)\n",
        "plt.figure()\n",
        "plt.plot(recall, precision)\n",
        "plt.title('Precision-Recall Curve')\n",
        "plt.xlabel('Recall')\n",
        "plt.ylabel('Precision')\n",
        "plt.grid(True)\n",
        "plt.show()"
      ],
      "metadata": {
        "colab": {
          "base_uri": "https://localhost:8080/",
          "height": 472
        },
        "id": "PQgDNVGggLyx",
        "outputId": "0b1a842d-198f-433f-8215-8ba597403df0"
      },
      "execution_count": null,
      "outputs": [
        {
          "output_type": "display_data",
          "data": {
            "text/plain": [
              "<Figure size 640x480 with 1 Axes>"
            ],
            "image/png": "[encoded data removed]"
          },
          "metadata": {}
        }
      ]
    },
    {
      "cell_type": "code",
      "source": [
        "# Histogram of Predicted Probabilities\n",
        "plt.figure()\n",
        "plt.hist(y_probs, bins=50, color='skyblue', edgecolor='black')\n",
        "plt.title('Histogram of Predicted Probabilities')\n",
        "plt.xlabel('Predicted Probability')\n",
        "plt.ylabel('Tweet Count')\n",
        "plt.grid(True)\n",
        "plt.show()"
      ],
      "metadata": {
        "colab": {
          "base_uri": "https://localhost:8080/",
          "height": 472
        },
        "id": "LqwQ-Dhlgbi0",
        "outputId": "828f0c4f-bb1e-4f4c-8dea-554ae214ddf8"
      },
      "execution_count": null,
      "outputs": [
        {
          "output_type": "display_data",
          "data": {
            "text/plain": [
              "<Figure size 640x480 with 1 Axes>"
            ],
            "image/png": "[encoded data removed]"
          },
          "metadata": {}
        }
      ]
    }
  ]
}